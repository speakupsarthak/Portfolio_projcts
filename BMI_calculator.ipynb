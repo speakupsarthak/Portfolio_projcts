{
 "cells": [
  {
   "cell_type": "code",
   "execution_count": 49,
   "id": "ff8166a3",
   "metadata": {},
   "outputs": [
    {
     "name": "stdout",
     "output_type": "stream",
     "text": [
      "Enter name: Sarthak\n",
      "Enter your weight in kgs: 78\n",
      "Enter your height in inches: 69\n",
      "BMI = 25.39\n",
      "Sarthak, you are overweight.\n",
      "You need to loose 1.21Kgs to be healthy\n"
     ]
    }
   ],
   "source": [
    "def new(weight):\n",
    "    if bmi >= 25:\n",
    "        new_weight = round(weight - (25*height*height)/1550, 2)\n",
    "        print('You need to loose ' + str(new_weight) + 'Kgs to be healthy')\n",
    "    elif bmi <18.5:\n",
    "        new_weight = round(((18.5*height*height)/1550) - weight, 2)\n",
    "        print('You need to gain ' + str(new_weight) + 'Kgs to be healthy')\n",
    "\n",
    "        \n",
    "name = input('Enter name: ')\n",
    "weight = float(input('Enter your weight in kgs: '))\n",
    "height = float(input('Enter your height in inches: '))\n",
    "bmi = round((weight*1550)/(height*height),2)\n",
    "print('BMI = '+str(bmi))\n",
    "\n",
    "\n",
    "if bmi > 0:\n",
    "    if bmi < 18.5:\n",
    "        print(name + ', you are underweight.')\n",
    "        new(weight)\n",
    "    elif bmi < 25:\n",
    "        print(name + ', you are normal weight.')\n",
    "        print('Congratulations')\n",
    "    elif bmi < 30:\n",
    "        print(name + ', you are overweight.')\n",
    "        new(weight)\n",
    "    elif bmi < 35:\n",
    "        print(name + ', you are obese.')\n",
    "        new(weight)\n",
    "    elif bmi < 40:\n",
    "        print(name + ', you are severely obese.')\n",
    "        new(weight)\n",
    "    else:\n",
    "        print(name + ', you are morbidly obese.')\n",
    "        new(weight)\n",
    "else:\n",
    "    print('Enter correct details')"
   ]
  }
 ],
 "metadata": {
  "kernelspec": {
   "display_name": "Python 3 (ipykernel)",
   "language": "python",
   "name": "python3"
  },
  "language_info": {
   "codemirror_mode": {
    "name": "ipython",
    "version": 3
   },
   "file_extension": ".py",
   "mimetype": "text/x-python",
   "name": "python",
   "nbconvert_exporter": "python",
   "pygments_lexer": "ipython3",
   "version": "3.11.5"
  }
 },
 "nbformat": 4,
 "nbformat_minor": 5
}
